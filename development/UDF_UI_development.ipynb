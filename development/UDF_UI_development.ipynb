{
 "cells": [
  {
   "cell_type": "code",
   "execution_count": null,
   "metadata": {
    "scrolled": false
   },
   "outputs": [],
   "source": [
    "# !jupyter nbextension     enable --py --sys-prefix appmode\n",
    "# !jupyter serverextension enable --py --sys-prefix appmode\n",
    "# !jupyter nbextension enable --py --sys-prefix qgrid\n",
    "# !jupyter nbextension enable --py --sys-prefix widgetsnbextension"
   ]
  },
  {
   "cell_type": "code",
   "execution_count": 1,
   "metadata": {
    "scrolled": false
   },
   "outputs": [],
   "source": [
    "from seeq import spy\n",
    "import sys\n",
    "from pathlib import Path\n",
    "package_path = Path('..')\n",
    "sys.path.append(str(package_path))\n",
    "from seeq.addons.udf_ui import UserDefinedFunctionsUI"
   ]
  },
  {
   "cell_type": "code",
   "execution_count": 2,
   "metadata": {
    "scrolled": false
   },
   "outputs": [
    {
     "data": {
      "text/html": [
       "<div style=\"background-color: #FFFFCC;\">The major version of the seeq module (55) does not match the major version of the Seeq Server you are connected to (57) and is incompatible.<br><br>It is recommended that you issue the following PIP command to install a compatible version of the seeq module:<br>pip install -U seeq~=57.0</div><div style=\"background-color: #EEFFEE;text-align: left;\">Logged in to <strong>http://localhost:34216</strong> successfully as <strong>ehsan@ehsan.com (ehsan shahidi [Admin])</strong>.<br>Seeq Server Version: <strong>R57.0.0-SNAPSHOT</strong><br>Seeq Python Module Version: <strong>55.2.1.183.2</strong></div>"
      ],
      "text/plain": [
       "<IPython.core.display.HTML object>"
      ]
     },
     "metadata": {},
     "output_type": "display_data"
    }
   ],
   "source": [
    "# spy.login(username='your_username@your_company.com', password='your_password')\n",
    "spy.login(username='ehsan@ehsan.com', password='12345678')"
   ]
  },
  {
   "cell_type": "code",
   "execution_count": 3,
   "metadata": {
    "scrolled": true
   },
   "outputs": [],
   "source": [
    "ui = UserDefinedFunctionsUI()"
   ]
  },
  {
   "cell_type": "code",
   "execution_count": 4,
   "metadata": {},
   "outputs": [
    {
     "data": {
      "application/vnd.jupyter.widget-view+json": {
       "model_id": "e461eb38af30438cb081cb3c8c22ac8a",
       "version_major": 2,
       "version_minor": 0
      },
      "text/plain": [
       "AppLayout(components={'search-display': SearchDisplay(class_functionality='UDF Search or Create', events=['upd…"
      ]
     },
     "metadata": {},
     "output_type": "display_data"
    }
   ],
   "source": [
    "ui.run()"
   ]
  },
  {
   "cell_type": "code",
   "execution_count": 3,
   "metadata": {},
   "outputs": [],
   "source": [
    "package_name = 'testPackage'\n",
    "function_name = 'testFunction'\n",
    "from seeq.addons import udf_ui \n",
    "ui = udf_ui.UserDefinedFunctionsUI()\n",
    "ui.app.search_display.vue_update_package_object(data=package_name)\n",
    "ui.app.search_display.vue_update_function(data=function_name)\n",
    "\n",
    "\n"
   ]
  },
  {
   "cell_type": "code",
   "execution_count": 4,
   "metadata": {},
   "outputs": [
    {
     "data": {
      "text/plain": [
       "[]"
      ]
     },
     "execution_count": 4,
     "metadata": {},
     "output_type": "execute_result"
    }
   ],
   "source": [
    "ui.backend.selected_function.examples_and_descriptions"
   ]
  },
  {
   "cell_type": "code",
   "execution_count": 5,
   "metadata": {},
   "outputs": [
    {
     "name": "stdout",
     "output_type": "stream",
     "text": [
      "testPackage\n",
      "testFunction\n",
      "{'description': '<p>Test function</p>',\n",
      " 'examples': {'examples': []},\n",
      " 'name': None,\n",
      " 'search_keywords': None,\n",
      " 'sync_token': None,\n",
      " 'title': None}\n"
     ]
    }
   ],
   "source": [
    "ui.app.function_parameters_display.params_and_types = [{'name': 'a', 'type': 'Signal'},\n",
    "                                                       {'name': 'b', 'type': 'Signal'}]\n",
    "ui.app.function_parameters_display.formula = '$a + $b'\n",
    "ui.app.function_documentation.package_description_html = '<p>Test package</p>'\n",
    "ui.app.function_documentation.func_description_html = '<p>Test function</p>'\n",
    "\n",
    "ui.app.access_management.selected_users_dict = [{'name': spy.user.name,\n",
    "                                                 'username': spy.user.username,\n",
    "                                                 'type': 'User',\n",
    "                                                 'read': True,\n",
    "                                                 'write': True,\n",
    "                                                 'manage': True},\n",
    "                                                {'name': 'Everyone',\n",
    "                                                 'username': None,\n",
    "                                                 'type': 'UserGroup',\n",
    "                                                 'read': True,\n",
    "                                                 'write': False,\n",
    "                                                 'manage': False}\n",
    "                                                ]\n",
    "ui.app.summary_page.vue_on_review(data='')\n",
    "ui.app.summary_page.vue_on_submit(data='')\n",
    "ui.app.search_display.vue_update_function(data=function_name)"
   ]
  },
  {
   "cell_type": "code",
   "execution_count": 6,
   "metadata": {},
   "outputs": [],
   "source": [
    "examples = [{'description': 'Example 1', 'formula': '$a + $b'},\n",
    "            {'description': 'Example 2', 'formula': '$c + $d'}]\n",
    "ui.app.function_documentation.examples_and_descriptions = examples"
   ]
  },
  {
   "cell_type": "code",
   "execution_count": 7,
   "metadata": {},
   "outputs": [],
   "source": [
    "ui.app.summary_page.vue_on_review(data='')\n"
   ]
  },
  {
   "cell_type": "code",
   "execution_count": 8,
   "metadata": {},
   "outputs": [
    {
     "name": "stdout",
     "output_type": "stream",
     "text": [
      "testPackage\n",
      "testFunction\n",
      "{'description': '<p>Test function</p>',\n",
      " 'examples': {'examples': [{'description': 'Example 1', 'formula': '$a + $b'},\n",
      "                           {'description': 'Example 2', 'formula': '$c + $d'}]},\n",
      " 'name': None,\n",
      " 'search_keywords': None,\n",
      " 'sync_token': None,\n",
      " 'title': None}\n"
     ]
    }
   ],
   "source": [
    "ui.app.summary_page.vue_on_submit(data='')\n",
    "\n",
    "ui.app.search_display.vue_update_package_object(data='testPackage')\n",
    "ui.app.search_display.vue_update_function(data='testFunction($Signal, $Signal)')"
   ]
  },
  {
   "cell_type": "code",
   "execution_count": 13,
   "metadata": {},
   "outputs": [
    {
     "data": {
      "text/plain": [
       "'<p>Test package</p>'"
      ]
     },
     "execution_count": 13,
     "metadata": {},
     "output_type": "execute_result"
    }
   ],
   "source": [
    "ui.backend.selected_package.description"
   ]
  },
  {
   "cell_type": "code",
   "execution_count": 10,
   "metadata": {},
   "outputs": [
    {
     "data": {
      "text/plain": [
       "[{'description': 'Example 1', 'formula': '$a + $b'},\n",
       " {'description': 'Example 2', 'formula': '$c + $d'}]"
      ]
     },
     "execution_count": 10,
     "metadata": {},
     "output_type": "execute_result"
    }
   ],
   "source": [
    "ui.app.function_documentation.examples_and_descriptions"
   ]
  },
  {
   "cell_type": "code",
   "execution_count": 11,
   "metadata": {},
   "outputs": [
    {
     "data": {
      "text/plain": [
       "{'package': <seeq.addons.udf_ui.backend._udf_classes.UDFPackage at 0x10f1cadc0>,\n",
       " 'package_name': 'testPackage',\n",
       " 'function': <seeq.addons.udf_ui.backend._udf_classes.UDFFunction at 0x10f2afbb0>,\n",
       " 'function_name': 'testFunction',\n",
       " 'package_description': '<p>Test package</p>',\n",
       " 'function_description': '<p>Test function</p>',\n",
       " 'examples_and_descriptions': [{'description': 'Example 1',\n",
       "   'formula': '$a + $b'},\n",
       "  {'description': 'Example 2', 'formula': '$c + $d'}],\n",
       " 'users_dict': [{'name': 'ehsan shahidi',\n",
       "   'username': 'ehsan@ehsan.com',\n",
       "   'type': 'User',\n",
       "   'read': True,\n",
       "   'write': True,\n",
       "   'manage': True},\n",
       "  {'name': 'Everyone',\n",
       "   'username': None,\n",
       "   'type': 'UserGroup',\n",
       "   'read': True,\n",
       "   'write': False,\n",
       "   'manage': False}],\n",
       " 'formula': '$a + $b',\n",
       " 'params_and_types': [{'name': 'a', 'type': 'Signal'},\n",
       "  {'name': 'b', 'type': 'Signal'}]}"
      ]
     },
     "execution_count": 11,
     "metadata": {},
     "output_type": "execute_result"
    }
   ],
   "source": [
    "ui.backend.push_request_summary"
   ]
  },
  {
   "cell_type": "code",
   "execution_count": 12,
   "metadata": {},
   "outputs": [
    {
     "data": {
      "text/plain": [
       "False"
      ]
     },
     "execution_count": 12,
     "metadata": {},
     "output_type": "execute_result"
    }
   ],
   "source": [
    "ui.backend.selected_function.func_is_new"
   ]
  },
  {
   "cell_type": "code",
   "execution_count": null,
   "metadata": {},
   "outputs": [],
   "source": []
  }
 ],
 "metadata": {
  "kernelspec": {
   "display_name": "Python 3 (ipykernel)",
   "language": "python",
   "name": "python3"
  },
  "language_info": {
   "codemirror_mode": {
    "name": "ipython",
    "version": 3
   },
   "file_extension": ".py",
   "mimetype": "text/x-python",
   "name": "python",
   "nbconvert_exporter": "python",
   "pygments_lexer": "ipython3",
   "version": "3.9.10"
  }
 },
 "nbformat": 4,
 "nbformat_minor": 1
}
